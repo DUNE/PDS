{
 "cells": [
  {
   "cell_type": "code",
   "execution_count": 2,
   "id": "4556c555-8306-481a-a7af-e0e9b678a242",
   "metadata": {},
   "outputs": [],
   "source": [
    "from hdf5libs import HDF5RawDataFile\n",
    "\n",
    "import daqdataformats\n",
    "import detdataformats\n",
    "from daqdataformats import FragmentType\n",
    "from rawdatautils.unpack.daphne import *\n",
    "\n",
    "import matplotlib.pyplot as plt"
   ]
  },
  {
   "cell_type": "code",
   "execution_count": 3,
   "id": "eb31e64c-72ea-46bb-a3ba-6600e033d0ba",
   "metadata": {},
   "outputs": [
    {
     "name": "stderr",
     "output_type": "stream",
     "text": [
      "HDF5-DIAG: Error detected in HDF5 (1.12.0) thread 0:\n",
      "  #000: /tmp/root/spack-stage/spack-stage-hdf5-1.12.0-nwlxllzr7neqtcsd575mrf2jhie4sfbd/spack-src/src/H5F.c line 793 in H5Fopen(): unable to open file\n",
      "    major: File accessibility\n",
      "    minor: Unable to open file\n",
      "  #001: /tmp/root/spack-stage/spack-stage-hdf5-1.12.0-nwlxllzr7neqtcsd575mrf2jhie4sfbd/spack-src/src/H5VLcallback.c line 3500 in H5VL_file_open(): open failed\n",
      "    major: Virtual Object Layer\n",
      "    minor: Can't open object\n",
      "  #002: /tmp/root/spack-stage/spack-stage-hdf5-1.12.0-nwlxllzr7neqtcsd575mrf2jhie4sfbd/spack-src/src/H5VLcallback.c line 3465 in H5VL__file_open(): open failed\n",
      "    major: Virtual Object Layer\n",
      "    minor: Can't open object\n",
      "  #003: /tmp/root/spack-stage/spack-stage-hdf5-1.12.0-nwlxllzr7neqtcsd575mrf2jhie4sfbd/spack-src/src/H5VLnative_file.c line 100 in H5VL__native_file_open(): unable to open file\n",
      "    major: File accessibility\n",
      "    minor: Unable to open file\n",
      "  #004: /tmp/root/spack-stage/spack-stage-hdf5-1.12.0-nwlxllzr7neqtcsd575mrf2jhie4sfbd/spack-src/src/H5Fint.c line 1564 in H5F_open(): unable to open file: name = '/eospublic.cern.ch:1094//eos/experiment/neutplatform/protodune/dune/hd-protodune/c4/87/np04hd_raw_run025017_0000_dataflow4_datawriter_0_20240415T144028.hdf5', tent_flags = 0\n",
      "    major: File accessibility\n",
      "    minor: Unable to open file\n",
      "  #005: /tmp/root/spack-stage/spack-stage-hdf5-1.12.0-nwlxllzr7neqtcsd575mrf2jhie4sfbd/spack-src/src/H5FD.c line 741 in H5FD_open(): open failed\n",
      "    major: Virtual File Layer\n",
      "    minor: Unable to initialize object\n",
      "  #006: /tmp/root/spack-stage/spack-stage-hdf5-1.12.0-nwlxllzr7neqtcsd575mrf2jhie4sfbd/spack-src/src/H5FDsec2.c line 346 in H5FD_sec2_open(): unable to open file: name = '/eospublic.cern.ch:1094//eos/experiment/neutplatform/protodune/dune/hd-protodune/c4/87/np04hd_raw_run025017_0000_dataflow4_datawriter_0_20240415T144028.hdf5', errno = 2, error message = 'No such file or directory', flags = 0, o_flags = 0\n",
      "    major: File accessibility\n",
      "    minor: Unable to open file\n"
     ]
    },
    {
     "ename": "RuntimeError",
     "evalue": "Issue when opening file /eospublic.cern.ch:1094//eos/experiment/neutplatform/protodune/dune/hd-protodune/c4/87/np04hd_raw_run025017_0000_dataflow4_datawriter_0_20240415T144028.hdf5: Unable to open file /eospublic.cern.ch:1094//eos/experiment/neutplatform/protodune/dune/hd-protodune/c4/87/np04hd_raw_run025017_0000_dataflow4_datawriter_0_20240415T144028.hdf5 (File accessibility) Unable to open file",
     "output_type": "error",
     "traceback": [
      "\u001b[0;31m---------------------------------------------------------------------------\u001b[0m",
      "\u001b[0;31mRuntimeError\u001b[0m                              Traceback (most recent call last)",
      "Cell \u001b[0;32mIn[3], line 4\u001b[0m\n\u001b[1;32m      2\u001b[0m filename  \u001b[38;5;241m=\u001b[39m \u001b[38;5;124m'\u001b[39m\u001b[38;5;124m/eospublic.cern.ch:1094//eos/experiment/neutplatform/protodune/dune/hd-protodune/c4/87/np04hd_raw_run025017_0000_dataflow4_datawriter_0_20240415T144028.hdf5\u001b[39m\u001b[38;5;124m'\u001b[39m \n\u001b[1;32m      3\u001b[0m run       \u001b[38;5;241m=\u001b[39m filename\u001b[38;5;241m.\u001b[39msplit(\u001b[38;5;124m'\u001b[39m\u001b[38;5;124m_\u001b[39m\u001b[38;5;124m'\u001b[39m)[\u001b[38;5;241m2\u001b[39m]\n\u001b[0;32m----> 4\u001b[0m h5_file   \u001b[38;5;241m=\u001b[39m \u001b[43mHDF5RawDataFile\u001b[49m\u001b[43m(\u001b[49m\u001b[43mfilename\u001b[49m\u001b[43m)\u001b[49m\n\u001b[1;32m      5\u001b[0m records   \u001b[38;5;241m=\u001b[39m h5_file\u001b[38;5;241m.\u001b[39mget_all_record_ids()\n\u001b[1;32m      6\u001b[0m nrecords  \u001b[38;5;241m=\u001b[39m \u001b[38;5;28mlen\u001b[39m(records)\n",
      "\u001b[0;31mRuntimeError\u001b[0m: Issue when opening file /eospublic.cern.ch:1094//eos/experiment/neutplatform/protodune/dune/hd-protodune/c4/87/np04hd_raw_run025017_0000_dataflow4_datawriter_0_20240415T144028.hdf5: Unable to open file /eospublic.cern.ch:1094//eos/experiment/neutplatform/protodune/dune/hd-protodune/c4/87/np04hd_raw_run025017_0000_dataflow4_datawriter_0_20240415T144028.hdf5 (File accessibility) Unable to open file"
     ]
    }
   ],
   "source": [
    "filename  = \"/data0/np04hd_raw_run025016_0000_dataflow4_datawriter_0_20240415T141456.hdf5.copied\"\n",
    "run       = filename.split('_')[2]\n",
    "h5_file   = HDF5RawDataFile(filename)\n",
    "records   = h5_file.get_all_record_ids()\n",
    "nrecords  = len(records)\n",
    "nskip     = 1\n",
    "det       = 'HD_PDS'"
   ]
  },
  {
   "cell_type": "code",
   "execution_count": 22,
   "id": "1ba8ecbb-f7d0-4dcc-8485-c4170a57e1ca",
   "metadata": {},
   "outputs": [],
   "source": [
    "### Reading HDF5 files and saving the important information in a vector\n",
    "info_perfragment = []\n",
    "\n",
    "for r in records[nskip:nrecords]:\n",
    "    \n",
    "    pds_geo_ids    = list(h5_file.get_geo_ids_for_subdetector(r,detdataformats.DetID.string_to_subdetector(det)))\n",
    "    for gid in pds_geo_ids:\n",
    "\n",
    "        frag = h5_file.get_frag(r,gid)\n",
    "        frag_id    = str(frag).split(' ')[3][:-1]\n",
    "        fragType = frag.get_header().fragment_type\n",
    "        \n",
    "        # For self trigger\n",
    "        if fragType == FragmentType.kDAPHNE.value:    \n",
    "            timestamps = np_array_timestamp(frag)\n",
    "            adcs       = np_array_adc(frag)\n",
    "            channels   = np_array_channels(frag)\n",
    "\n",
    "        # For full_stream\n",
    "        elif fragType == 13:\n",
    "            timestamps = np_array_timestamp_stream(frag)\n",
    "            adcs       = np_array_adc_stream(frag)\n",
    "            channels   = np_array_channels_stream(frag)[0]\n",
    "\n",
    "        info_perfragment.append([frag_id, gid, channels, adcs, timestamps])\n",
    "        "
   ]
  },
  {
   "cell_type": "code",
   "execution_count": 23,
   "id": "10b54e8b-ef65-472e-9867-fd6267e9c53d",
   "metadata": {},
   "outputs": [],
   "source": [
    "#### Persistence of each channel per geo_id\n",
    "\n",
    "gid = list(set(item[1] for item in info_perfragment))\n",
    "\n",
    "for g in gid:\n",
    "    ch_ref = None\n",
    "    wf_list = None\n",
    "    match = 'no'\n",
    "\n",
    "    for index, item in enumerate(info_perfragment):\n",
    "        fragment, geo_id, channels, waveforms, timestamps = item\n",
    "        \n",
    "        if geo_id == g:\n",
    "            if match == 'no':\n",
    "                ch_ref = list(set(channels))\n",
    "                wf_list = [[] for _ in range(len(channels))]\n",
    "                match = 'yes'\n",
    "\n",
    "            for i, wf in enumerate(waveforms):\n",
    "                ch_index = ch_ref.index(channels[i])\n",
    "                wf_list[ch_index].append(wf)\n",
    "\n",
    "        if geo_id != g or index == (len(info_perfragment) - 1):\n",
    "            match = 'no'\n",
    "            if ch_ref is not None:\n",
    "                for c, ch in enumerate(ch_ref):\n",
    "                    for wf in wf_list[c]:\n",
    "                        plt.plot(wf)\n",
    "                    plt.title(f'ID: {g} Channel = {ch}')\n",
    "                    plt.show()"
   ]
  },
  {
   "cell_type": "code",
   "execution_count": null,
   "id": "76fa055f-5196-4fde-9d37-217a06501b22",
   "metadata": {},
   "outputs": [],
   "source": [
    "baseline_low_limit = 0\n",
    "baseline_upper_limit = 50\n",
    "\n",
    "integration_low_limit = 150\n",
    "integration_upper_limit = 180"
   ]
  },
  {
   "cell_type": "code",
   "execution_count": null,
   "id": "0515b37a-bb89-4dd0-bd9c-7d4f258f8cfb",
   "metadata": {},
   "outputs": [],
   "source": [
    "#### Charge histogram per channel\n",
    "from scipy.signal import savgol_filter\n",
    "\n",
    "gid = list(set(item[1] for item in info_perfragment))\n",
    "\n",
    "for g in gid:\n",
    "    ch_ref = None\n",
    "    wf_list = None\n",
    "    match = 'no'\n",
    "\n",
    "    for index, item in enumerate(info_perfragment):\n",
    "        fragment, geo_id, channels, waveforms, timestamps = item\n",
    "        \n",
    "        if geo_id == g:\n",
    "            if match == 'no':\n",
    "                charge_list = [[] for _ in range(len(channels))]\n",
    "                ch_ref = list(set(channels))\n",
    "                match = 'yes'\n",
    "\n",
    "            for i, wf in enumerate(waveforms):\n",
    "                baseline = (savgol_filter(wf[baseline_low_limit: baseline_upper_limit], 2, 1)).mean()\n",
    "                charge = sum(baseline - savgol_filter(wf[integration_low_limit: integration_upper_limit], 2, 1))\n",
    "                \n",
    "                ch_index = ch_ref.index(channels[i])             \n",
    "                charge_list[ch_index].append(charge)\n",
    "                             \n",
    "\n",
    "        if geo_id != g or index == (len(info_perfragment) - 1):\n",
    "            match = 'no'\n",
    "            if ch_ref is not None:\n",
    "                for c, ch in enumerate(ch_ref):\n",
    "                    plt.hist(charge_list[c], bins = int(len(charge_list[c])/4))\n",
    "                    plt.title(f'ID: {g} Channel = {ch}')\n",
    "                    plt.show()"
   ]
  }
 ],
 "metadata": {
  "kernelspec": {
   "display_name": "Python 3 (ipykernel)",
   "language": "python",
   "name": "python3"
  },
  "language_info": {
   "codemirror_mode": {
    "name": "ipython",
    "version": 3
   },
   "file_extension": ".py",
   "mimetype": "text/x-python",
   "name": "python",
   "nbconvert_exporter": "python",
   "pygments_lexer": "ipython3",
   "version": "3.10.4"
  }
 },
 "nbformat": 4,
 "nbformat_minor": 5
}
