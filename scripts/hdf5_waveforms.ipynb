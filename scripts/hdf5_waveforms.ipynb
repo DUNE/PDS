{
 "cells": [
  {
   "cell_type": "code",
   "execution_count": 16,
   "id": "4556c555-8306-481a-a7af-e0e9b678a242",
   "metadata": {},
   "outputs": [],
   "source": [
    "from hdf5libs import HDF5RawDataFile\n",
    "\n",
    "import daqdataformats\n",
    "import detdataformats\n",
    "from daqdataformats import FragmentType\n",
    "from rawdatautils.unpack.daphne import *\n",
    "\n",
    "import matplotlib.pyplot as plt"
   ]
  },
  {
   "cell_type": "code",
   "execution_count": 21,
   "id": "eb31e64c-72ea-46bb-a3ba-6600e033d0ba",
   "metadata": {},
   "outputs": [],
   "source": [
    "#filename  = \"/data0/np04hd_raw_run025016_0000_dataflow4_datawriter_0_20240415T141456.hdf5.copied\"\n",
    "filename  = '/data0/np04hd_raw_run025077_0213_dataflow0_datawriter_0_20240419T092425.hdf5.copied' \n",
    "run       = filename.split('_')[2]\n",
    "h5_file   = HDF5RawDataFile(filename)\n",
    "records   = h5_file.get_all_record_ids()\n",
    "nrecords  = len(records)\n",
    "nskip     = 1\n",
    "det       = 'HD_PDS'"
   ]
  },
  {
   "cell_type": "code",
   "execution_count": 22,
   "id": "1ba8ecbb-f7d0-4dcc-8485-c4170a57e1ca",
   "metadata": {},
   "outputs": [],
   "source": [
    "### Reading HDF5 files and saving the important information in a vector\n",
    "info_perfragment = []\n",
    "\n",
    "for r in records[nskip:nrecords]:\n",
    "    \n",
    "    pds_geo_ids    = list(h5_file.get_geo_ids_for_subdetector(r,detdataformats.DetID.string_to_subdetector(det)))\n",
    "    for gid in pds_geo_ids:\n",
    "\n",
    "        frag = h5_file.get_frag(r,gid)\n",
    "        frag_id    = str(frag).split(' ')[3][:-1]\n",
    "        fragType = frag.get_header().fragment_type\n",
    "        \n",
    "        # For self trigger\n",
    "        if fragType == FragmentType.kDAPHNE.value:    \n",
    "            timestamps = np_array_timestamp(frag)\n",
    "            adcs       = np_array_adc(frag)\n",
    "            channels   = np_array_channels(frag)\n",
    "\n",
    "        # For full_stream\n",
    "        elif fragType == 13:\n",
    "            timestamps = np_array_timestamp_stream(frag)\n",
    "            adcs       = np_array_adc_stream(frag)\n",
    "            channels   = np_array_channels_stream(frag)[0]\n",
    "\n",
    "        info_perfragment.append([frag_id, gid, channels, adcs, timestamps])\n",
    "        "
   ]
  },
  {
   "cell_type": "code",
   "execution_count": 23,
   "id": "10b54e8b-ef65-472e-9867-fd6267e9c53d",
   "metadata": {},
   "outputs": [],
   "source": [
    "#### Persistence of each channel per geo_id\n",
    "\n",
    "gid = list(set(item[1] for item in info_perfragment))\n",
    "\n",
    "for g in gid:\n",
    "    ch_ref = None\n",
    "    wf_list = None\n",
    "    match = 'no'\n",
    "\n",
    "    for index, item in enumerate(info_perfragment):\n",
    "        fragment, geo_id, channels, waveforms, timestamps = item\n",
    "        \n",
    "        if geo_id == g:\n",
    "            if match == 'no':\n",
    "                ch_ref = list(set(channels))\n",
    "                wf_list = [[] for _ in range(len(channels))]\n",
    "                match = 'yes'\n",
    "\n",
    "            for i, wf in enumerate(waveforms):\n",
    "                ch_index = ch_ref.index(channels[i])\n",
    "                wf_list[ch_index].append(wf)\n",
    "\n",
    "        if geo_id != g or index == (len(info_perfragment) - 1):\n",
    "            match = 'no'\n",
    "            if ch_ref is not None:\n",
    "                for c, ch in enumerate(ch_ref):\n",
    "                    for wf in wf_list[c]:\n",
    "                        plt.plot(wf)\n",
    "                    plt.title(f'ID: {g} Channel = {ch}')\n",
    "                    plt.show()"
   ]
  },
  {
   "cell_type": "code",
   "execution_count": 24,
   "id": "e9f70766-ee10-4f38-bb34-87f33c0f029b",
   "metadata": {},
   "outputs": [],
   "source": [
    "### Waveforms per fragment & timestamps\n",
    "\n",
    "# Get unique geo_ids\n",
    "gid = list(set(item[1] for item in info_perfragment))\n",
    "\n",
    "for index, item in enumerate(info_perfragment):\n",
    "    fragment, geo_id, channels, waveforms, timestamps = item\n",
    "\n",
    "    tm_ref = list(set(timestamps))\n",
    "    for t_element in tm_ref:\n",
    "        indices = [i for i, tm in enumerate(timestamps) if tm == t_element]\n",
    "\n",
    "        for i in indices:\n",
    "            plt.plot(waveforms[i], label=channels[i])\n",
    "\n",
    "        plt.title(f'Fragment: {fragment}; Timestamp: {t_element}')\n",
    "        plt.legend()\n",
    "        plt.show()"
   ]
  },
  {
   "cell_type": "code",
   "execution_count": null,
   "id": "0515b37a-bb89-4dd0-bd9c-7d4f258f8cfb",
   "metadata": {},
   "outputs": [],
   "source": []
  }
 ],
 "metadata": {
  "kernelspec": {
   "display_name": "Python 3 (ipykernel)",
   "language": "python",
   "name": "python3"
  },
  "language_info": {
   "codemirror_mode": {
    "name": "ipython",
    "version": 3
   },
   "file_extension": ".py",
   "mimetype": "text/x-python",
   "name": "python",
   "nbconvert_exporter": "python",
   "pygments_lexer": "ipython3",
   "version": "3.10.4"
  }
 },
 "nbformat": 4,
 "nbformat_minor": 5
}
