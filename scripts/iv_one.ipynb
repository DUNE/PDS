{
 "cells": [
  {
   "cell_type": "markdown",
   "id": "175d3be7-0f50-4b4c-974d-ad8be8819991",
   "metadata": {},
   "source": [
    "# SINGLE IV CURVE ANALYSIS"
   ]
  },
  {
   "cell_type": "markdown",
   "id": "d59d7d71-08fb-4cc8-9071-dedd67dde753",
   "metadata": {},
   "source": [
    "This script allows you to analyzed a SINGLE IV CURVE (with bias) step by step, just by specifing the file path.\n",
    "ATTENTION: the input file must be root file containing a TTree with two Branches: BIAS (one value for each endpoint), TRIM and CURRENT (for new data from 14/03/24)."
   ]
  },
  {
   "cell_type": "code",
   "execution_count": null,
   "id": "f637b095",
   "metadata": {},
   "outputs": [],
   "source": [
    "import IPython\n",
    "from os import chdir, listdir, path\n",
    "from uproot import open as op\n",
    "import pandas as pd\n",
    "import numpy as np\n",
    "import plotly.express as px\n",
    "import plotly.graph_objects as go\n",
    "your_path = \"/\".join(IPython.extract_module_locals()[1][\"__vsc_ipynb_file__\"].split(\"/\")[:-1])\n",
    "# print(your_path)\n",
    "chdir(your_path)\n",
    "from iv_utl import *"
   ]
  },
  {
   "cell_type": "markdown",
   "id": "fef9d8ea-e468-4691-86a0-48d890accff0",
   "metadata": {},
   "source": [
    "INPUT:"
   ]
  },
  {
   "cell_type": "code",
   "execution_count": null,
   "id": "1e32fa42",
   "metadata": {},
   "outputs": [],
   "source": [
    "your_path = '/eos/experiment/neutplatform/protodune/experiments/ProtoDUNE-II/PDS_Commissioning/ivcurves/Apr-19-2024-run00/'\n",
    "endpoints = '105'\n",
    "mychannel = 0\n",
    "\n",
    "all_folders = sorted([folder for folder in listdir(f'{your_path}') if path.isdir(f'{your_path}/{folder}')])\n",
    "folder = [item for item in all_folders if item.endswith(endpoints)][0]; print(f'Analysing endpoint {endpoints}')\n",
    "filename = [root_file for root_file in listdir(f'{your_path}{folder}') if root_file.endswith(f'ch_{mychannel}.root')][0]\n",
    "print(f'Analysing {your_path}{folder}{filename}')"
   ]
  },
  {
   "cell_type": "markdown",
   "id": "b0b420e2-ee42-4941-a6ac-8d8767f39a25",
   "metadata": {},
   "source": [
    "Information about the IV curve: "
   ]
  },
  {
   "cell_type": "code",
   "execution_count": null,
   "id": "d71c0703-b80f-4cbb-a475-28f12e430527",
   "metadata": {},
   "outputs": [],
   "source": [
    "plt_name = (filename.split('/')[-1]).split('.')[0]\n",
    "endpoint = (plt_name.split('_')[-1]).split('.')[0]\n",
    "apa = (plt_name.replace('apa_','')).split('_')[0]\n",
    "chn = int(plt_name.split('ch_')[-1])\n",
    "afe = chn//8"
   ]
  },
  {
   "cell_type": "markdown",
   "id": "0a238d77-0d74-41f2-94b7-30932c4ab2d8",
   "metadata": {},
   "source": [
    "Read the input file as dataframe:"
   ]
  },
  {
   "cell_type": "code",
   "execution_count": null,
   "id": "a0c92042",
   "metadata": {},
   "outputs": [],
   "source": [
    "root_file = op(f'{your_path}{folder}/{filename}')\n",
    "directory, trees = get_tree_info(root_file)\n",
    "print(f'In this configuration you have TDirectories: {directory}, TTrees: {trees}\\n')\n",
    "array_dict = {}\n",
    "for tree in trees:\n",
    "    tree = tree.split(\";1\")[0]\n",
    "    path_to_var = f'{directory.split(\";1\")[0]}/{tree}'\n",
    "    for var in root_file[path_to_var].keys():\n",
    "        array_dict[f'{tree}/{var}'] = root_file[path_to_var+\"/\"+var].array(library=\"np\")\n",
    "print(f'Variables in the TTrees: {array_dict.keys()}') "
   ]
  },
  {
   "cell_type": "code",
   "execution_count": null,
   "id": "9228631f-6c81-4777-a20c-1fd743e6f353",
   "metadata": {},
   "outputs": [],
   "source": [
    "df = pd.DataFrame({'V_raw':array_dict['iv_trim/trim'], 'I_raw':array_dict['iv_trim/current']})\n",
    "df = pd.DataFrame({'V_raw':array_dict['iv_trim/trim'], 'I_raw':np.flip(array_dict['iv_trim/current'])*(-1)})\n",
    "df = pd.DataFrame({'V_raw':array_dict['bias/bias_dac'], 'I_raw':array_dict['bias/current']*(-1)})\n",
    "\n",
    "\n",
    "\n",
    "# for i in range(len(df) - 2):\n",
    "#     if all(df.iloc[i:i+3]['I_raw'] > 0):\n",
    "#         df = df.iloc[i:]\n",
    "#         break\n",
    "\n",
    "if (df['I_raw'].isna().all()):\n",
    "    print('ERROR: Current is all NaN')\n",
    "    print(df)\n",
    "elif (df['I_raw'].isna().sum() >= 10):\n",
    "    print('ERROR: More than 10 NaN value for current')\n",
    "    print(df)\n",
    "elif (df['I_raw'].isna().sum() > 0) and (df['I_raw'].isna().sum() < 10):\n",
    "    print('Warning: some NaN value for current, less than 10 NaN. Let continue the analysis')\n",
    "\n",
    "if ((df['I_raw'] < 0).all()) :\n",
    "    print('ERROR: Current is negative')\n",
    "    print(df)\n",
    "\n",
    "# if (df['I'] < 100).all():\n",
    "#     print('ERROR: Too low current')\n",
    "#     print(df)\n",
    "\n",
    "if (len(df['I_raw']) < 20):\n",
    "    print('ERROR: Few points, less than 20)')\n",
    "    print(df)"
   ]
  },
  {
   "cell_type": "markdown",
   "id": "fc2bcf77-a1f7-4979-b927-27fe431c2777",
   "metadata": {},
   "source": [
    "Plot of the reverse IV curve + a savgol filter:"
   ]
  },
  {
   "cell_type": "code",
   "execution_count": null,
   "id": "0b609c29",
   "metadata": {},
   "outputs": [],
   "source": [
    "# First filter on current\n",
    "savgol_window = (len(df['V_raw'])) // 15  # 5 seems okay\n",
    "if (savgol_window < 4) and (savgol_window > 0):\n",
    "    savgol_window = 4\n",
    "if (savgol_window == 0):\n",
    "    savgol_window = 2\n",
    "df['I_sav'] = savgol_filter(df['I_raw'],savgol_window,1) \n",
    "\n",
    "# Create a new dataframe for plotting\n",
    "df_plot = df.melt(id_vars='V_raw', value_vars=['I_raw', 'I_sav'], var_name='Type', value_name='Current')\n",
    "\n",
    "fig = px.scatter(df_plot, x='V_raw', y='Current', color='Type', title='REV IV - ENDPOINT:' + str(endpoint) + ' APA:' + str(apa) + ' AFE:' + str(afe) + ' CH:' + str(chn))\n",
    "fig.update_traces(marker=dict(size=5))\n",
    "fig.update_layout(xaxis_title='Voltage [DAC]', yaxis_title='Current',template='presentation')\n",
    "fig.show()\n",
    "\n",
    "## MATPLOTLIB PLOT ##\n",
    "# fig, ax = plt.subplots()\n",
    "# fig.suptitle('REV IV - ENDPOINT:' + str(endpoint) + ' APA:' + str(apa) + ' AFE:' + str(afe) + ' CH:' + str(chn))\n",
    "# ax.set_xlabel(\"Trim (DAC)\")\n",
    "# ax.set_ylabel(\"Current\") # unit of measure ?\n",
    "# # ax.set_yscale('log')\n",
    "# ax.scatter(df['V_raw'], df['I_raw'], marker='o',s=5, color='blue', label='Acquired IV curve')\n",
    "\n",
    "# # First filter on current\n",
    "# savgol_window = (len(df['V_raw'])) // 15  # 5 seems okay\n",
    "# if (savgol_window < 4) and (savgol_window > 0):\n",
    "#     savgol_window = 4\n",
    "# if (savgol_window == 0):\n",
    "#     savgol_window = 2\n",
    "# df['I_savgol'] = savgol_filter(df['I_raw'],savgol_window,1) \n",
    "# ax.scatter(df['V_raw'], df['I_savgol'], marker='o',s=5, color='deepskyblue', label='Savgol filtered IV curve')\n",
    "\n",
    "# ax.legend()"
   ]
  },
  {
   "cell_type": "markdown",
   "id": "c4323120-aed1-49ac-91e8-85d6a018d4a0",
   "metadata": {},
   "source": [
    "Plot of the first normalized derivative (1/I * dI/dV) + second savgol filter on it:"
   ]
  },
  {
   "cell_type": "code",
   "execution_count": null,
   "id": "8865d506-7f59-43dc-a915-4e157c0b4076",
   "metadata": {},
   "outputs": [],
   "source": [
    "df['1der_I_raw'] = [i / j for i, j in zip(derivative_anna(df['V_raw'], df['I_raw']), df['I_raw'])]\n",
    "df['1der_I_sav'] = [i / j for i, j in zip(derivative_anna(df['V_raw'], df['I_sav']), df['I_sav'])]\n",
    "\n",
    "# Second filter \n",
    "df['1der_I_2sav'] = savgol_filter(df['1der_I_sav'],savgol_window*3,2)\n",
    "peak_index = df['2der_I_sav'].idxmax()\n",
    "half_point_range = (len(df['V_raw'])) // 12  # 6 seems okay+\n",
    "if half_point_range < 5: half_point_range = 5\n",
    "min_index = peak_index - half_point_range\n",
    "if min_index < 0: min_index = 0\n",
    "max_index = peak_index + half_point_range \n",
    "if max_index < 0: max_index = len(df['V_raw'])-1\n",
    "\n",
    "df_fit = df.loc[min_index:max_index]\n",
    "poly2_coeff, poly2_cov = curve_fit(parabolic_function, df_fit['V_raw'].loc[min_index:max_index], df_fit['2der_I_sav'].loc[min_index:max_index])\n",
    "# poly2_coeff = np.polyfit(df_fit['V_raw'], df_fit['2der_I_sav'], 2)\n",
    "x_poly2 = np.linspace(df_fit.at[df_fit.index[0],'V_raw'], df_fit.at[df_fit.index[-1],'V_raw'], 100) \n",
    "y_poly2 = y_values = np.polyval(poly2_coeff, x_poly2)\n",
    "print(poly2_coeff)\n",
    "Vbd = x_poly2[np.argmax(y_poly2)]\n",
    "print('Vbd = ' + str(Vbd))\n",
    "print('Vbd = ' + str(Vbd*0.04))\n",
    "\n",
    "if df['1der_I_2sav'].isna().all() :\n",
    "    print('ERROR: stop and check you data')\n",
    "    print(df)\n",
    "else:\n",
    "    # Create the plot\n",
    "    fig = go.Figure()\n",
    "    fig.add_trace(go.Scatter(x=df['V_raw'], y=df['1der_I_raw'],mode='markers',name='1der_I_raw'))\n",
    "    fig.add_trace(go.Scatter(x=df['V_raw'], y=df['1der_I_sav'],mode='markers',name='1der_I_sav'))\n",
    "    fig.add_trace(go.Scatter(x=df['V_raw'], y=df['2der_I_sav'],mode='markers',name='1der_I_2sav'))\n",
    "    fig.add_trace(go.Scatter(x=[df.loc[peak_index, 'V_raw']],y=[df.loc[peak_index, '1der_I_2sav']],\n",
    "                                mode='markers',marker=dict(color='yellow'),name='Maximum point'))\n",
    "    fig.add_trace(go.Scatter(x=df_fit['V_raw'],y=df_fit['2der_I_sav'],\n",
    "                                mode='markers',marker=dict(color='red'),name='Selected points'))\n",
    "    fig.add_trace(go.Scatter(x=x_poly2, y=y_poly2,mode='lines',marker=dict(color='green'),name='FIT'))\n",
    "\n",
    "    fig.add_vline(x=Vbd, line_dash=\"dash\", line_color=\"green\",name='Vbd')\n",
    "    fig.update_traces(marker=dict(size=5))\n",
    "    fig.update_layout(yaxis_title='Normalized Derivative',template='presentation')\n",
    "    fig.show()"
   ]
  },
  {
   "cell_type": "markdown",
   "id": "390f5c16-a685-41df-b0a8-3f84d3d1a132",
   "metadata": {},
   "source": [
    "Search for the maximum of first derivative (filtered):"
   ]
  },
  {
   "cell_type": "code",
   "execution_count": null,
   "id": "2ea95d16",
   "metadata": {},
   "outputs": [],
   "source": [
    "## MATPLOTLIB PLOT ##\n",
    "fig_der, ax_twin = plt.subplots()\n",
    "ax_twin.set_ylabel('Normalized Derivative')\n",
    "df['1der_I_raw'] = [i / j for i, j in zip(derivative_anna(df['V_raw'], df['I_raw']), df['I_raw'])]\n",
    "#df['der_norm'] = np.gradient(df['I']) /df['I']\n",
    "ax_twin.scatter(df[\"V_raw\"],df['1der_I_raw'], marker='o', s=5, color='purple', label='Derivative of acquired data (no filter)')\n",
    "\n",
    "df['1der_I_sav'] = [i / j for i, j in zip(derivative_anna(df['V_raw'], df['I_sav']), df['I_sav'])]\n",
    "ax_twin.scatter(df['V_raw'],df['1der_I_sav'], marker='o', s=5, color='fuchsia', label='Derivative of filtered data')\n",
    "\n",
    "# Second filter \n",
    "df['2der_I_sav'] = savgol_filter(df['1der_I_sav'],savgol_window*3,2)\n",
    "\n",
    "if df['2der_I_sav'].isna().all() :\n",
    "    print('ERROR: stop and check you data')\n",
    "    print(df)\n",
    "else:\n",
    "    ax_twin.scatter(df[\"V_raw\"],df['2der_I_sav'], marker='o', s=5, color='orange', label='Derivative of filtered data + Savgol filter')\n",
    "    #ax_twin.set_ylim([df['der_I_savgol_2'].min()*0.3, df['der_I_savgol_2'].max()*2])\n",
    "\n",
    "ax_twin.legend()"
   ]
  },
  {
   "cell_type": "code",
   "execution_count": null,
   "id": "4c387bbe-359a-4204-8035-064f25211434",
   "metadata": {},
   "outputs": [],
   "source": [
    "# First method: find just the maximum of filtered derivativa\n",
    "peak_index = df['2der_I_sav'].idxmax()\n",
    "#ax_twin.scatter(df.loc[peak_index, 'V'],df.loc[peak_index, 'der_I_savgol_2'], marker='o', s=25, color='yellow', label='Maximum point')\n",
    "\n",
    "# peak_index= (df.iloc[7:-7]['2der_I_sav']).idxmax()\n",
    "ax_twin.scatter(df.loc[peak_index, 'V_raw'],df.loc[peak_index, '2der_I_sav'], marker='o', s=25, color='yellow', label='Maximum point')\n",
    "\n",
    "\n",
    "if (peak_index < 5) or (df.loc[peak_index, 'I_raw']<1) :\n",
    "    print('Error: stop and check data')\n",
    "\n",
    "# Second method: do a nth polynomial fit and search for its maximum\n",
    "#degree = 6\n",
    "#polyfit_par, polyfit_coef = Polynomial.fit(df['V'], df['der_I_savgol_2'], deg = degree, full = True) \n",
    "#df['poly_fit'] = [Polynomial(polyfit_par.convert().coef)(i) for i in df['V']]\n",
    "#peak_index = np.argmax(df['poly_fit']) \n",
    "#ax_twin.plot(df['V'][peak_index-40:peak_index+40], df['poly_fit'][peak_index-40:peak_index+40], color='gold', label = 'Polyfit ('+str(degree)+'deg)')\n",
    "#ax_twin.legend()\n",
    "fig_der"
   ]
  },
  {
   "cell_type": "markdown",
   "id": "fb61f770-7a6f-4f8c-bfd9-1e234aeee9cd",
   "metadata": {},
   "source": [
    "Select few data around the maximum "
   ]
  },
  {
   "cell_type": "code",
   "execution_count": null,
   "id": "a554c627-4835-47fc-90d5-3637a7f56df3",
   "metadata": {},
   "outputs": [],
   "source": [
    "half_point_range = (len(df['V_raw'])) // 12  # 6 seems okay\n",
    "if half_point_range < 5:\n",
    "    half_point_range = 5\n",
    "min_index = peak_index - half_point_range\n",
    "if min_index < 0:\n",
    "    min_index = 0\n",
    "max_index = peak_index + half_point_range \n",
    "if max_index < 0:\n",
    "    max_index = len(df['V_raw'])-1\n",
    "df_fit = df.loc[min_index:max_index]\n",
    "\n",
    "ax_twin.scatter(df_fit['V_raw'],df_fit['2der_I_sav'], marker='o', s=15, color='red', label='Selected points for fit')\n",
    "\n",
    "ax_twin.legend()\n",
    "fig_der"
   ]
  },
  {
   "cell_type": "markdown",
   "id": "cf5a0204-336a-4e90-9f83-2386b9cebf3d",
   "metadata": {},
   "source": [
    "Do a parabolic fit (2nd degree polynomial) of the selected data:"
   ]
  },
  {
   "cell_type": "code",
   "execution_count": null,
   "id": "79e1d834-621d-447d-a75b-0eb2ce721a45",
   "metadata": {},
   "outputs": [],
   "source": [
    "#poly2_par, poly2_coeff = Polynomial.fit(df_fit['V'], df_fit['der_I_savgol_2'], deg = 2, full = True)  \n",
    "poly2_coeff = np.polyfit(df_fit['V_raw'], df_fit['2der_I_sav'], 2)\n",
    "\n",
    "x_poly2 = np.linspace(df_fit.at[df_fit.index[0],'V_raw'], df_fit.at[df_fit.index[-1],'V_raw'], 100) \n",
    "\n",
    "#y_poly2 = [Polynomial(poly2_par.convert().coef)(i) for i in x_poly2]\n",
    "y_poly2 = y_values = np.polyval(poly2_coeff, x_poly2)\n",
    "\n",
    "ax_twin.plot(x_poly2, y_poly2, color='green', label = '2nd deg fit')\n",
    "\n",
    "ax_twin.set_ylim([df_fit['2der_I_sav'].min()*0.3, df_fit['2der_I_sav'].max()*2])\n",
    "\n",
    "ax_twin.legend()\n",
    "fig_der"
   ]
  },
  {
   "cell_type": "markdown",
   "id": "4ed61975-7541-4d0e-b2e6-1fc8d43e43ac",
   "metadata": {},
   "source": [
    "Search for the breakdown voltage, as the maximum of the parabola:"
   ]
  },
  {
   "cell_type": "code",
   "execution_count": null,
   "id": "2cdce26b-6192-41c0-a49c-61ea1cf50ab1",
   "metadata": {},
   "outputs": [],
   "source": [
    "Vbd = x_poly2[np.argmax(y_poly2)]\n",
    "ax_twin.axvline(x=Vbd, color='lime' ,linestyle='--', label=r'$V_{bd} \\rightarrow $'+'trim= '+f'{Vbd:.0f} (DAC)')   \n",
    "print('Vbd = ' + str(Vbd))\n",
    "#ax_twin.set_xlim([V_bd-50,V_bd+50])\n",
    "ax_twin.legend()\n",
    "\n",
    "fig_der"
   ]
  }
 ],
 "metadata": {
  "kernelspec": {
   "display_name": "Python 3 (ipykernel)",
   "language": "python",
   "name": "python3"
  },
  "language_info": {
   "codemirror_mode": {
    "name": "ipython",
    "version": 3
   },
   "file_extension": ".py",
   "mimetype": "text/x-python",
   "name": "python",
   "nbconvert_exporter": "python",
   "pygments_lexer": "ipython3",
   "version": "3.10.4"
  }
 },
 "nbformat": 4,
 "nbformat_minor": 5
}
